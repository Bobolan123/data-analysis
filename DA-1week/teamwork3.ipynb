{
 "cells": [
  {
   "cell_type": "code",
   "execution_count": 4,
   "metadata": {},
   "outputs": [
    {
     "name": "stdout",
     "output_type": "stream",
     "text": [
      "<class 'pandas.core.frame.DataFrame'>\n",
      "RangeIndex: 3 entries, 0 to 2\n",
      "Data columns (total 7 columns):\n",
      " #   Column    Non-Null Count  Dtype \n",
      "---  ------    --------------  ----- \n",
      " 0   Date      3 non-null      object\n",
      " 1   Price     3 non-null      object\n",
      " 2   Open      3 non-null      object\n",
      " 3   High      3 non-null      object\n",
      " 4   Low       3 non-null      object\n",
      " 5   Vol.      3 non-null      object\n",
      " 6   Change %  3 non-null      object\n",
      "dtypes: object(7)\n",
      "memory usage: 300.0+ bytes\n"
     ]
    }
   ],
   "source": [
    "import pandas as pd\n",
    "import numpy as np\n",
    "from sklearn.linear_model import LinearRegression\n",
    "import matplotlib.pyplot as plt\n",
    "\n",
    "\n",
    "df= pd.read_csv('FPT Historical Data-reality.csv')\n",
    "df.info()"
   ]
  },
  {
   "cell_type": "code",
   "execution_count": 5,
   "metadata": {},
   "outputs": [
    {
     "data": {
      "text/html": [
       "<div>\n",
       "<style scoped>\n",
       "    .dataframe tbody tr th:only-of-type {\n",
       "        vertical-align: middle;\n",
       "    }\n",
       "\n",
       "    .dataframe tbody tr th {\n",
       "        vertical-align: top;\n",
       "    }\n",
       "\n",
       "    .dataframe thead th {\n",
       "        text-align: right;\n",
       "    }\n",
       "</style>\n",
       "<table border=\"1\" class=\"dataframe\">\n",
       "  <thead>\n",
       "    <tr style=\"text-align: right;\">\n",
       "      <th></th>\n",
       "      <th>Date</th>\n",
       "      <th>Price</th>\n",
       "      <th>Open</th>\n",
       "      <th>High</th>\n",
       "      <th>Low</th>\n",
       "      <th>Vol.</th>\n",
       "      <th>Change %</th>\n",
       "    </tr>\n",
       "  </thead>\n",
       "  <tbody>\n",
       "    <tr>\n",
       "      <th>0</th>\n",
       "      <td>06/20/2024</td>\n",
       "      <td>133,500.0</td>\n",
       "      <td>135,000.0</td>\n",
       "      <td>135,700.0</td>\n",
       "      <td>131,800.0</td>\n",
       "      <td>9.84M</td>\n",
       "      <td>1.52%</td>\n",
       "    </tr>\n",
       "    <tr>\n",
       "      <th>1</th>\n",
       "      <td>06/19/2024</td>\n",
       "      <td>131,500.0</td>\n",
       "      <td>128,000.0</td>\n",
       "      <td>132,800.0</td>\n",
       "      <td>126,600.0</td>\n",
       "      <td>9.67M</td>\n",
       "      <td>2.73%</td>\n",
       "    </tr>\n",
       "    <tr>\n",
       "      <th>2</th>\n",
       "      <td>06/18/2024</td>\n",
       "      <td>128,000.0</td>\n",
       "      <td>128,800.0</td>\n",
       "      <td>129,700.0</td>\n",
       "      <td>128,000.0</td>\n",
       "      <td>6.68M</td>\n",
       "      <td>-0.62%</td>\n",
       "    </tr>\n",
       "  </tbody>\n",
       "</table>\n",
       "</div>"
      ],
      "text/plain": [
       "         Date      Price       Open       High        Low   Vol. Change %\n",
       "0  06/20/2024  133,500.0  135,000.0  135,700.0  131,800.0  9.84M    1.52%\n",
       "1  06/19/2024  131,500.0  128,000.0  132,800.0  126,600.0  9.67M    2.73%\n",
       "2  06/18/2024  128,000.0  128,800.0  129,700.0  128,000.0  6.68M   -0.62%"
      ]
     },
     "execution_count": 5,
     "metadata": {},
     "output_type": "execute_result"
    }
   ],
   "source": [
    "df"
   ]
  },
  {
   "cell_type": "code",
   "execution_count": null,
   "metadata": {},
   "outputs": [],
   "source": []
  }
 ],
 "metadata": {
  "kernelspec": {
   "display_name": "Python 3",
   "language": "python",
   "name": "python3"
  },
  "language_info": {
   "codemirror_mode": {
    "name": "ipython",
    "version": 3
   },
   "file_extension": ".py",
   "mimetype": "text/x-python",
   "name": "python",
   "nbconvert_exporter": "python",
   "pygments_lexer": "ipython3",
   "version": "3.11.3"
  }
 },
 "nbformat": 4,
 "nbformat_minor": 2
}
